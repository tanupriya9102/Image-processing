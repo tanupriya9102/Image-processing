{
 "cells": [
  {
   "cell_type": "code",
   "execution_count": 1,
   "id": "6411e8a6",
   "metadata": {},
   "outputs": [],
   "source": [
    "import numpy as np"
   ]
  },
  {
   "cell_type": "code",
   "execution_count": 2,
   "id": "d6cfa079",
   "metadata": {},
   "outputs": [],
   "source": [
    "import cv2\n"
   ]
  },
  {
   "cell_type": "code",
   "execution_count": 3,
   "id": "3c8f6c4d",
   "metadata": {},
   "outputs": [],
   "source": [
    "img=cv2.imread('./images/bird.jpg')"
   ]
  },
  {
   "cell_type": "code",
   "execution_count": 5,
   "id": "a903927f",
   "metadata": {},
   "outputs": [],
   "source": [
    "def display(winname,image):\n",
    "    cv2.imshow(winname,image)\n",
    "    cv2.waitKey(0)\n",
    "    cv2.destroyAllWindows()"
   ]
  },
  {
   "cell_type": "code",
   "execution_count": 6,
   "id": "8f40e24f",
   "metadata": {},
   "outputs": [],
   "source": [
    "display('winname',img)"
   ]
  },
  {
   "cell_type": "code",
   "execution_count": 7,
   "id": "edf6ec30",
   "metadata": {},
   "outputs": [
    {
     "data": {
      "text/plain": [
       "(896, 640, 3)"
      ]
     },
     "execution_count": 7,
     "metadata": {},
     "output_type": "execute_result"
    }
   ],
   "source": [
    "img.shape"
   ]
  },
  {
   "cell_type": "code",
   "execution_count": 8,
   "id": "112e499a",
   "metadata": {},
   "outputs": [
    {
     "data": {
      "text/plain": [
       "numpy.ndarray"
      ]
     },
     "execution_count": 8,
     "metadata": {},
     "output_type": "execute_result"
    }
   ],
   "source": [
    "type(img)"
   ]
  },
  {
   "cell_type": "code",
   "execution_count": 13,
   "id": "b9218d55",
   "metadata": {},
   "outputs": [],
   "source": [
    "# access first 100 rows and columns\n",
    "corners=img[0:100,0:100]\n",
    "display('corner',corners)"
   ]
  },
  {
   "cell_type": "code",
   "execution_count": 16,
   "id": "a2c62c64",
   "metadata": {},
   "outputs": [],
   "source": [
    "# change colour of corner\n",
    "blue=(255,0,0)\n",
    "img[0:100,0:100]=blue"
   ]
  },
  {
   "cell_type": "code",
   "execution_count": 17,
   "id": "8730402c",
   "metadata": {},
   "outputs": [],
   "source": [
    "display('manipulate',img)"
   ]
  },
  {
   "cell_type": "code",
   "execution_count": null,
   "id": "0ba09da6",
   "metadata": {},
   "outputs": [],
   "source": []
  }
 ],
 "metadata": {
  "kernelspec": {
   "display_name": "Python 3",
   "language": "python",
   "name": "python3"
  },
  "language_info": {
   "codemirror_mode": {
    "name": "ipython",
    "version": 3
   },
   "file_extension": ".py",
   "mimetype": "text/x-python",
   "name": "python",
   "nbconvert_exporter": "python",
   "pygments_lexer": "ipython3",
   "version": "3.8.8"
  }
 },
 "nbformat": 4,
 "nbformat_minor": 5
}
