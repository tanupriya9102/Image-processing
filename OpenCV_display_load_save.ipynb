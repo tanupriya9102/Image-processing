{
 "cells": [
  {
   "cell_type": "code",
   "execution_count": 1,
   "id": "d9884a0f",
   "metadata": {},
   "outputs": [
    {
     "name": "stdout",
     "output_type": "stream",
     "text": [
      "Requirement already satisfied: opencv-python in c:\\users\\dell\\anaconda3\\lib\\site-packages (4.7.0.72)\n",
      "Requirement already satisfied: numpy>=1.17.3 in c:\\users\\dell\\anaconda3\\lib\\site-packages (from opencv-python) (1.20.1)\n",
      "Note: you may need to restart the kernel to use updated packages.\n"
     ]
    }
   ],
   "source": [
    "pip install opencv-python"
   ]
  },
  {
   "cell_type": "code",
   "execution_count": 2,
   "id": "49a47b5e",
   "metadata": {},
   "outputs": [],
   "source": [
    "import numpy as np\n"
   ]
  },
  {
   "cell_type": "code",
   "execution_count": 3,
   "id": "e3f543ff",
   "metadata": {},
   "outputs": [],
   "source": [
    "import cv2"
   ]
  },
  {
   "cell_type": "code",
   "execution_count": 4,
   "id": "8978e8cb",
   "metadata": {},
   "outputs": [],
   "source": [
    "img=cv2.imread('./images/flamingo1.jpg')"
   ]
  },
  {
   "cell_type": "code",
   "execution_count": 10,
   "id": "ba3e8394",
   "metadata": {},
   "outputs": [],
   "source": [
    "# print(img)"
   ]
  },
  {
   "cell_type": "code",
   "execution_count": 6,
   "id": "d2a77bb1",
   "metadata": {},
   "outputs": [
    {
     "data": {
      "text/plain": [
       "(272, 185, 3)"
      ]
     },
     "execution_count": 6,
     "metadata": {},
     "output_type": "execute_result"
    }
   ],
   "source": [
    "img.shape"
   ]
  },
  {
   "cell_type": "code",
   "execution_count": 9,
   "id": "d5fb28b9",
   "metadata": {},
   "outputs": [],
   "source": [
    "cv2.imshow('ex',img)\n",
    "cv2.waitKey(10000)#miliseconds\n",
    "cv2.destroyAllWindows() #press any key to close window"
   ]
  },
  {
   "cell_type": "code",
   "execution_count": 12,
   "id": "681bfaaf",
   "metadata": {},
   "outputs": [
    {
     "data": {
      "text/plain": [
       "True"
      ]
     },
     "execution_count": 12,
     "metadata": {},
     "output_type": "execute_result"
    }
   ],
   "source": [
    "#save image\n",
    "cv2.imwrite('./images/example.png',img)"
   ]
  },
  {
   "cell_type": "code",
   "execution_count": null,
   "id": "588cbe2c",
   "metadata": {},
   "outputs": [],
   "source": []
  }
 ],
 "metadata": {
  "kernelspec": {
   "display_name": "Python 3",
   "language": "python",
   "name": "python3"
  },
  "language_info": {
   "codemirror_mode": {
    "name": "ipython",
    "version": 3
   },
   "file_extension": ".py",
   "mimetype": "text/x-python",
   "name": "python",
   "nbconvert_exporter": "python",
   "pygments_lexer": "ipython3",
   "version": "3.8.8"
  }
 },
 "nbformat": 4,
 "nbformat_minor": 5
}
