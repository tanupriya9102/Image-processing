{
 "cells": [
  {
   "cell_type": "code",
   "execution_count": 2,
   "id": "4310c5e3",
   "metadata": {},
   "outputs": [
    {
     "name": "stdout",
     "output_type": "stream",
     "text": [
      "Requirement already satisfied: opencv-python in c:\\users\\dell\\anaconda3\\lib\\site-packages (4.7.0.72)\n",
      "Requirement already satisfied: numpy>=1.17.0 in c:\\users\\dell\\anaconda3\\lib\\site-packages (from opencv-python) (1.20.1)\n",
      "Note: you may need to restart the kernel to use updated packages.\n"
     ]
    }
   ],
   "source": [
    "pip install opencv-python"
   ]
  },
  {
   "cell_type": "code",
   "execution_count": 3,
   "id": "c214a01b",
   "metadata": {},
   "outputs": [],
   "source": [
    "\n",
    "import numpy as np\n",
    "\n",
    "\n",
    "import cv2\n",
    "\n",
    "# img=cv2.imread('./images/flamingo1.jpg')\n",
    "\n"
   ]
  },
  {
   "cell_type": "code",
   "execution_count": 4,
   "id": "1ea9ea12",
   "metadata": {},
   "outputs": [
    {
     "data": {
      "text/plain": [
       "True"
      ]
     },
     "execution_count": 4,
     "metadata": {},
     "output_type": "execute_result"
    }
   ],
   "source": [
    "img=cv2.imread('./images/flamingo.jpg')\n",
    "\n",
    "#bgr representation\n",
    "# print(img)\n",
    "\n",
    "img.shape\n",
    "\n",
    "cv2.imshow('ex',img)\n",
    "cv2.waitKey(10000)#miliseconds\n",
    "cv2.destroyAllWindows() #press any key to close window\n",
    "\n",
    "#save image\n",
    "cv2.imwrite('./images/example.png',img)\n",
    "\n"
   ]
  },
  {
   "cell_type": "code",
   "execution_count": 4,
   "id": "a6397770",
   "metadata": {},
   "outputs": [],
   "source": [
    "b,g,r=cv2.split(img)"
   ]
  },
  {
   "cell_type": "code",
   "execution_count": 5,
   "id": "2ad91f60",
   "metadata": {},
   "outputs": [
    {
     "data": {
      "text/plain": [
       "array([[189, 189, 189, ..., 188, 188, 188],\n",
       "       [189, 189, 189, ..., 188, 188, 188],\n",
       "       [189, 189, 189, ..., 188, 188, 188],\n",
       "       ...,\n",
       "       [168, 168, 168, ..., 177, 177, 177],\n",
       "       [174, 175, 175, ..., 177, 177, 177],\n",
       "       [180, 180, 181, ..., 178, 178, 178]], dtype=uint8)"
      ]
     },
     "execution_count": 5,
     "metadata": {},
     "output_type": "execute_result"
    }
   ],
   "source": [
    "b"
   ]
  },
  {
   "cell_type": "code",
   "execution_count": 1,
   "id": "d5448bcc",
   "metadata": {},
   "outputs": [
    {
     "ename": "NameError",
     "evalue": "name 'cv2' is not defined",
     "output_type": "error",
     "traceback": [
      "\u001b[1;31m---------------------------------------------------------------------------\u001b[0m",
      "\u001b[1;31mNameError\u001b[0m                                 Traceback (most recent call last)",
      "\u001b[1;32m<ipython-input-1-509c15a5fbe8>\u001b[0m in \u001b[0;36m<module>\u001b[1;34m\u001b[0m\n\u001b[1;32m----> 1\u001b[1;33m \u001b[0mcv2\u001b[0m\u001b[1;33m.\u001b[0m\u001b[0mimshow\u001b[0m\u001b[1;33m(\u001b[0m\u001b[1;34m'blue'\u001b[0m\u001b[1;33m,\u001b[0m\u001b[0mb\u001b[0m\u001b[1;33m)\u001b[0m\u001b[1;33m\u001b[0m\u001b[1;33m\u001b[0m\u001b[0m\n\u001b[0m\u001b[0;32m      2\u001b[0m \u001b[0mcv2\u001b[0m\u001b[1;33m.\u001b[0m\u001b[0mimshow\u001b[0m\u001b[1;33m(\u001b[0m\u001b[1;34m'red'\u001b[0m\u001b[1;33m,\u001b[0m\u001b[0mr\u001b[0m\u001b[1;33m)\u001b[0m\u001b[1;33m\u001b[0m\u001b[1;33m\u001b[0m\u001b[0m\n\u001b[0;32m      3\u001b[0m \u001b[0mcv2\u001b[0m\u001b[1;33m.\u001b[0m\u001b[0mwaitKey\u001b[0m\u001b[1;33m(\u001b[0m\u001b[1;36m0\u001b[0m\u001b[1;33m)\u001b[0m\u001b[1;33m\u001b[0m\u001b[1;33m\u001b[0m\u001b[0m\n\u001b[0;32m      4\u001b[0m \u001b[0mcv2\u001b[0m\u001b[1;33m.\u001b[0m\u001b[0mdestroyAllWindows\u001b[0m\u001b[1;33m(\u001b[0m\u001b[1;33m)\u001b[0m\u001b[1;33m\u001b[0m\u001b[1;33m\u001b[0m\u001b[0m\n",
      "\u001b[1;31mNameError\u001b[0m: name 'cv2' is not defined"
     ]
    }
   ],
   "source": [
    "cv2.imshow('blue',b)\n",
    "cv2.imshow('red',r)\n",
    "cv2.waitKey(0)\n",
    "cv2.destroyAllWindows()\n"
   ]
  },
  {
   "cell_type": "code",
   "execution_count": 5,
   "id": "81281796",
   "metadata": {},
   "outputs": [],
   "source": [
    "img2=cv2.imread('./images/sample.jpg')"
   ]
  },
  {
   "cell_type": "code",
   "execution_count": 6,
   "id": "0b6a8005",
   "metadata": {},
   "outputs": [],
   "source": [
    "cv2.imshow('ex2',img2)\n",
    "cv2.waitKey(10000)#miliseconds\n",
    "cv2.destroyAllWindows() #press any key to close window"
   ]
  },
  {
   "cell_type": "code",
   "execution_count": 7,
   "id": "1c3f5ba5",
   "metadata": {},
   "outputs": [],
   "source": [
    "b,g,r=cv2.split(img2)"
   ]
  },
  {
   "cell_type": "code",
   "execution_count": 8,
   "id": "751fe642",
   "metadata": {},
   "outputs": [],
   "source": [
    "cv2.imshow('blue',b)\n",
    "cv2.imshow('red',r)\n",
    "cv2.imshow('green',g)\n",
    "cv2.waitKey(0)\n",
    "cv2.destroyAllWindows()"
   ]
  },
  {
   "cell_type": "markdown",
   "id": "fccf5e98",
   "metadata": {},
   "source": [
    "COLOR CONVERTER"
   ]
  },
  {
   "cell_type": "code",
   "execution_count": null,
   "id": "f409c62f",
   "metadata": {},
   "outputs": [],
   "source": [
    "img_rgb=cv2.cvtColor(img2,cv2.COLOR_BGR2RGB)"
   ]
  },
  {
   "cell_type": "code",
   "execution_count": null,
   "id": "82ee8cd1",
   "metadata": {},
   "outputs": [],
   "source": [
    "cv2.imshow('rgb',img_rgb)\n",
    "cv2.waitKey(10000)#miliseconds\n",
    "cv2.destroyAllWindows() #press any key to close window"
   ]
  },
  {
   "cell_type": "code",
   "execution_count": null,
   "id": "9e51eaf2",
   "metadata": {},
   "outputs": [],
   "source": [
    "img2=cv2.imread('./images/')"
   ]
  }
 ],
 "metadata": {
  "kernelspec": {
   "display_name": "Python 3",
   "language": "python",
   "name": "python3"
  },
  "language_info": {
   "codemirror_mode": {
    "name": "ipython",
    "version": 3
   },
   "file_extension": ".py",
   "mimetype": "text/x-python",
   "name": "python",
   "nbconvert_exporter": "python",
   "pygments_lexer": "ipython3",
   "version": "3.8.8"
  }
 },
 "nbformat": 4,
 "nbformat_minor": 5
}
