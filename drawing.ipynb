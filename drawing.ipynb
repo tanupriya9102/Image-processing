{
 "cells": [
  {
   "cell_type": "code",
   "execution_count": 1,
   "id": "56d697d0",
   "metadata": {},
   "outputs": [],
   "source": [
    "import cv2"
   ]
  },
  {
   "cell_type": "code",
   "execution_count": 2,
   "id": "6da0f202",
   "metadata": {},
   "outputs": [],
   "source": [
    "import numpy as np"
   ]
  },
  {
   "cell_type": "code",
   "execution_count": 3,
   "id": "3ad45c87",
   "metadata": {},
   "outputs": [],
   "source": [
    "canvas=np.zeros((500,500,3),dtype=\"uint8\")"
   ]
  },
  {
   "cell_type": "code",
   "execution_count": 4,
   "id": "04cd285a",
   "metadata": {},
   "outputs": [],
   "source": [
    "def display(winname,image):\n",
    "    cv2.imshow(winname,image)\n",
    "    cv2.waitKey(0)\n",
    "    cv2.destroyAllWindows()"
   ]
  },
  {
   "cell_type": "code",
   "execution_count": 5,
   "id": "72a83cdc",
   "metadata": {},
   "outputs": [],
   "source": [
    "green=(0,255,0)\n",
    "cv2.line(canvas,(0,0),(500,500),green)\n",
    "display('canvas',canvas)"
   ]
  },
  {
   "cell_type": "code",
   "execution_count": 6,
   "id": "6f5f52f3",
   "metadata": {},
   "outputs": [],
   "source": [
    "# # canvas = np.zeros((500, 500, 3), dtype=\"uint8\"): This line creates a NumPy array called canvas with dimensions 500x500x3.\n",
    "# The array is initialized with zeros, and the data type is set to uint8, which represents unsigned 8-bit integers.\n",
    "# This creates an empty canvas to draw on.\n",
    "\n",
    "# # green = (0, 255, 0): This line defines the color green as a tuple of three values representing the intensity of the red,\n",
    "# green, and blue channels. \n",
    "# In this case, it's pure green with maximum intensity in the green channel.\n",
    "\n",
    "# # cv2.line(canvas, (0, 0), (500, 500), green, 1): This line draws a line on the canvas array using the cv2.line() function from OpenCV. It takes several parameters: the canvas array, the starting point of the line (0, 0) (top-left corner), the ending point (500, 500) (bottom-right corner), the color green, and the line thickness 1. This line draws a diagonal line from the top-left to the bottom-right corner of the canvas."
   ]
  },
  {
   "cell_type": "code",
   "execution_count": 7,
   "id": "6551a1f3",
   "metadata": {},
   "outputs": [],
   "source": [
    "red=(0,0,255)\n",
    "cv2.line(canvas,(500,0),(0,500),red)\n",
    "display('canvas',canvas)"
   ]
  },
  {
   "cell_type": "markdown",
   "id": "e7da8dbe",
   "metadata": {},
   "source": [
    "# Draw a rectangle"
   ]
  },
  {
   "cell_type": "code",
   "execution_count": 20,
   "id": "43a5392a",
   "metadata": {},
   "outputs": [],
   "source": [
    "canvas=np.zeros((500,500,3),dtype=\"uint8\")"
   ]
  },
  {
   "cell_type": "code",
   "execution_count": 21,
   "id": "7277b46c",
   "metadata": {},
   "outputs": [],
   "source": [
    "cv2.rectangle(canvas1,(200,200),(300,300),green)\n",
    "display('canvas',canvas1)"
   ]
  },
  {
   "cell_type": "code",
   "execution_count": 11,
   "id": "57f7f801",
   "metadata": {},
   "outputs": [],
   "source": [
    "blue=(255,0,0)\n",
    "cv2.rectangle(canvas,(200,200),(300,300),blue,-1)\n",
    "display('canvas',canvas)"
   ]
  },
  {
   "cell_type": "markdown",
   "id": "fc4a2afd",
   "metadata": {},
   "source": [
    "# Circles"
   ]
  },
  {
   "cell_type": "code",
   "execution_count": 39,
   "id": "76409d3d",
   "metadata": {},
   "outputs": [],
   "source": [
    "canvas=np.zeros((500,500,3),dtype=\"uint8\")"
   ]
  },
  {
   "cell_type": "code",
   "execution_count": 40,
   "id": "8a5a9e20",
   "metadata": {
    "raw_mimetype": "text/x-python"
   },
   "outputs": [],
   "source": [
    "centerx,centery=(canvas.shape[0]//2),(canvas.shape[1]//2),"
   ]
  },
  {
   "cell_type": "code",
   "execution_count": null,
   "id": "4e846683",
   "metadata": {},
   "outputs": [],
   "source": [
    "white=(255,255,255)\n",
    "for  r in range(0,151,25):\n",
    "    cv2.circle(canvas,(centerx,centery),r,white)\n",
    "\n",
    "display('circles',canvas)\n",
    "    "
   ]
  },
  {
   "cell_type": "markdown",
   "id": "4128cc0e",
   "metadata": {},
   "source": [
    "# Abstract drawing"
   ]
  },
  {
   "cell_type": "code",
   "execution_count": 34,
   "id": "122ddf3c",
   "metadata": {},
   "outputs": [],
   "source": [
    "canvas1=np.zeros((300,300,3),dtype=\"uint8\")"
   ]
  },
  {
   "cell_type": "code",
   "execution_count": 35,
   "id": "129ae1f1",
   "metadata": {},
   "outputs": [],
   "source": [
    "for i in range(0,25):\n",
    "    radius=np.random.randint(5,200)\n",
    "    color=np.random.randint(0,256,size=(3,)).tolist()\n",
    "    pt=np.random.randint(0,300,size=(2,))\n",
    "    cv2.circle(canvas1,tuple(pt),radius,color,-1)\n",
    "\n",
    "display('canvas1',canvas1)"
   ]
  },
  {
   "cell_type": "code",
   "execution_count": 37,
   "id": "eab7acdc",
   "metadata": {},
   "outputs": [
    {
     "data": {
      "text/plain": [
       "True"
      ]
     },
     "execution_count": 37,
     "metadata": {},
     "output_type": "execute_result"
    }
   ],
   "source": [
    "cv2.imwrite('canvas.png',canvas1)"
   ]
  },
  {
   "cell_type": "code",
   "execution_count": null,
   "id": "1ead6b2d",
   "metadata": {},
   "outputs": [],
   "source": []
  }
 ],
 "metadata": {
  "celltoolbar": "Raw Cell Format",
  "kernelspec": {
   "display_name": "Python 3",
   "language": "python",
   "name": "python3"
  },
  "language_info": {
   "codemirror_mode": {
    "name": "ipython",
    "version": 3
   },
   "file_extension": ".py",
   "mimetype": "text/x-python",
   "name": "python",
   "nbconvert_exporter": "python",
   "pygments_lexer": "ipython3",
   "version": "3.8.8"
  }
 },
 "nbformat": 4,
 "nbformat_minor": 5
}
